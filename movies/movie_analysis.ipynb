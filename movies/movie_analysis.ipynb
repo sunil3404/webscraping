{
 "cells": [
  {
   "cell_type": "code",
   "execution_count": 1,
   "id": "70d83888",
   "metadata": {},
   "outputs": [],
   "source": [
    "import pandas as pd\n",
    "import numpy as np\n",
    "\n",
    "fpath = \"top_1000.csv\"\n",
    "\n",
    "df = pd.read_csv(fpath)"
   ]
  },
  {
   "cell_type": "code",
   "execution_count": 2,
   "id": "bfa6bfb8",
   "metadata": {},
   "outputs": [],
   "source": [
    "from bs4 import BeautifulSoup as bs\n",
    "import requests\n",
    "url = \"https://www.imdb.com/search/title/?groups=top_1000&count=100&start=1&ref_=adv_nxt\"\n",
    "soup = bs(requests.get(url).content, 'html.parser')\n",
    "\n",
    "\n",
    "sobject = soup.find('div', class_='lister-item-content')"
   ]
  },
  {
   "cell_type": "code",
   "execution_count": 3,
   "id": "f183c736",
   "metadata": {},
   "outputs": [
    {
     "name": "stdout",
     "output_type": "stream",
     "text": [
      "<span class=\"certificate\">UA</span>\n"
     ]
    }
   ],
   "source": [
    "print(sobject.find('span', class_='certificate'))"
   ]
  },
  {
   "cell_type": "code",
   "execution_count": null,
   "id": "d67d4459",
   "metadata": {},
   "outputs": [],
   "source": []
  }
 ],
 "metadata": {
  "kernelspec": {
   "display_name": "Python 3 (ipykernel)",
   "language": "python",
   "name": "python3"
  },
  "language_info": {
   "codemirror_mode": {
    "name": "ipython",
    "version": 3
   },
   "file_extension": ".py",
   "mimetype": "text/x-python",
   "name": "python",
   "nbconvert_exporter": "python",
   "pygments_lexer": "ipython3",
   "version": "3.9.13"
  }
 },
 "nbformat": 4,
 "nbformat_minor": 5
}
